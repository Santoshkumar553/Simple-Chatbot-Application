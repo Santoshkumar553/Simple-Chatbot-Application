{
  "nbformat": 4,
  "nbformat_minor": 0,
  "metadata": {
    "colab": {
      "provenance": [],
      "authorship_tag": "ABX9TyPDMqqMj2RJ3GLr9Z4pJl5w",
      "include_colab_link": true
    },
    "kernelspec": {
      "name": "python3",
      "display_name": "Python 3"
    },
    "language_info": {
      "name": "python"
    }
  },
  "cells": [
    {
      "cell_type": "markdown",
      "metadata": {
        "id": "view-in-github",
        "colab_type": "text"
      },
      "source": [
        "<a href=\"https://colab.research.google.com/github/Santoshkumar553/Simple-Chatbot-Application/blob/main/simple_nltk_chatbot.ipynb\" target=\"_parent\"><img src=\"https://colab.research.google.com/assets/colab-badge.svg\" alt=\"Open In Colab\"/></a>"
      ]
    },
    {
      "cell_type": "code",
      "execution_count": 1,
      "metadata": {
        "colab": {
          "base_uri": "https://localhost:8080/"
        },
        "id": "vyUUDaoQamUb",
        "outputId": "35a2d6a5-7e3c-44ca-949d-9a018af135cd"
      },
      "outputs": [
        {
          "output_type": "stream",
          "name": "stdout",
          "text": [
            "Requirement already satisfied: nltk in /usr/local/lib/python3.10/dist-packages (3.9.1)\n",
            "Requirement already satisfied: click in /usr/local/lib/python3.10/dist-packages (from nltk) (8.1.7)\n",
            "Requirement already satisfied: joblib in /usr/local/lib/python3.10/dist-packages (from nltk) (1.4.2)\n",
            "Requirement already satisfied: regex>=2021.8.3 in /usr/local/lib/python3.10/dist-packages (from nltk) (2024.11.6)\n",
            "Requirement already satisfied: tqdm in /usr/local/lib/python3.10/dist-packages (from nltk) (4.67.1)\n"
          ]
        }
      ],
      "source": [
        "!pip install nltk"
      ]
    },
    {
      "cell_type": "code",
      "source": [
        "## importing required libriries\n",
        "import nltk\n",
        "from nltk.chat.util import Chat, reflections"
      ],
      "metadata": {
        "id": "P83_jsjHaqFo"
      },
      "execution_count": 3,
      "outputs": []
    },
    {
      "cell_type": "code",
      "source": [
        "## Chats and responses pairs\n",
        "pairs= [\n",
        "    (r\"hi|hello|hey|hellow\", [\"Hello, How may I assist you today?\"]),\n",
        "    (r\"what is your name?\", [\"My name is Chatbot!!! Created By Santosh\"]),\n",
        "    (r\"how are you?\", [\"Thanks for asking me. I'm well😊. How are you???\"]),\n",
        "    (r\"i am fine|i am good|i am well\", [\"Good to here.....\"]),\n",
        "    (r\"(.*)your name?\", [\"I told you my name is Chatbot Created by Santosh Kumar\"]),\n",
        "    (r\"thank you|thanks|thanks for your help\", [\"You welcome!!! feel free to ask anything\"]),\n",
        "    (r\"bye\", [\"Goodbye!!! Have a goodday.\"]),\n",
        "    (r\"(.*)\", [\"I'm sorry, I don't understand. Could you clarify?\"])\n",
        "]"
      ],
      "metadata": {
        "id": "NLO9N2Njayq-"
      },
      "execution_count": 8,
      "outputs": []
    },
    {
      "cell_type": "code",
      "source": [
        "def chatbot():\n",
        "    print(\"Hello! I am a chatbot of Santosh. Type 'bye' to exit.\")\n",
        "    chat = Chat(pairs, reflections)\n",
        "\n",
        "    while True:\n",
        "        user_input = input(\"You: \")\n",
        "        if user_input.lower() == \"bye\":\n",
        "            print(\"Chatbot: Goodbye! Have a great day!\")\n",
        "            break\n",
        "        response = chat.respond(user_input)\n",
        "        if response:\n",
        "            print(\"ChatBot:\", response)\n",
        "        else:\n",
        "            print(\"ChatBot: I'm sorry, I don't understand that.\")"
      ],
      "metadata": {
        "id": "f1z_v_ZrdHSM"
      },
      "execution_count": 20,
      "outputs": []
    },
    {
      "cell_type": "code",
      "source": [
        "if __name__ == \"__main__\":\n",
        "    chatbot()"
      ],
      "metadata": {
        "id": "7gZlWpKGdw0D"
      },
      "execution_count": null,
      "outputs": []
    },
    {
      "cell_type": "code",
      "source": [],
      "metadata": {
        "id": "IA7Pw_-nd0Yy"
      },
      "execution_count": null,
      "outputs": []
    }
  ]
}